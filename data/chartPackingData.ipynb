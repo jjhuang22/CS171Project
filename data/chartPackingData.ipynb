{
 "cells": [
  {
   "cell_type": "code",
   "execution_count": 1,
   "metadata": {},
   "outputs": [],
   "source": [
    "import numpy as np\n",
    "import pandas as pd\n",
    "import json"
   ]
  },
  {
   "cell_type": "code",
   "execution_count": 32,
   "metadata": {},
   "outputs": [],
   "source": [
    "# companies = pd.read_csv(\"companies_final.csv\", encoding = 'ISO-8859-1').drop(columns = ['Unnamed: 0'])\n",
    "# acquisitions = pd.read_csv(\"acquisitions_final.csv\").drop(columns = ['Unnamed: 0'])"
   ]
  },
  {
   "cell_type": "code",
   "execution_count": 34,
   "metadata": {
    "scrolled": true
   },
   "outputs": [],
   "source": [
    "# acquisitions_df = acquisitions[acquisitions['acquirer_name'].isin(desiredCompanies)]"
   ]
  },
  {
   "cell_type": "code",
   "execution_count": 41,
   "metadata": {},
   "outputs": [],
   "source": [
    "# acquisitions_df.sort_values(by = ['acquirer_market'], inplace=True)\n",
    "# acquisitions_df.transpose()"
   ]
  },
  {
   "cell_type": "code",
   "execution_count": 36,
   "metadata": {},
   "outputs": [],
   "source": [
    "# acquisitions_df.to_csv('changeMarket.csv')"
   ]
  },
  {
   "cell_type": "code",
   "execution_count": 43,
   "metadata": {},
   "outputs": [],
   "source": [
    "# desiredMarkets = ['Service Provider']"
   ]
  },
  {
   "cell_type": "code",
   "execution_count": 2,
   "metadata": {},
   "outputs": [],
   "source": [
    "desiredCompanies = ['Google', 'Yahoo!', 'AOL', 'Oracle Corporation', 'Microsoft', 'Salesforce', \n",
    "                    'Facebook', 'Hewlett-Packard', 'Cisco', 'Apple']\n",
    "desiredMarkets = ['Service Provider', 'Social Media', 'Enterprise Software', 'Software', \"Hardware + Software\"]"
   ]
  },
  {
   "cell_type": "code",
   "execution_count": 3,
   "metadata": {},
   "outputs": [],
   "source": [
    "acquisitions_df = pd.read_csv(\"changedMarket.csv\").drop(columns = ['Unnamed: 0'])"
   ]
  },
  {
   "cell_type": "code",
   "execution_count": 5,
   "metadata": {},
   "outputs": [],
   "source": [
    "# layer0 = []\n",
    "# for i in desiredMarkets: # 1. acquirer market \n",
    "#     df1 = acquisitions_df[acquisitions_df['acquirer_market'] == i]\n",
    "#     companiesInMarket = set(df1['acquirer_name'].values) # 2. acquirer\n",
    "    \n",
    "#     layer1 = []\n",
    "#     for j in companiesInMarket:\n",
    "#         df2 = df1[df1['acquirer_name'] == j]\n",
    "#         marketAcquired = set(df2['company_market'].values) # 3. markets acquired\n",
    "#         layer2 = []\n",
    "        \n",
    "#         for k in marketAcquired: \n",
    "#             layer3 = []\n",
    "#             df3 = df2[df2['company_market'] == k]\n",
    "#             companies = df3['company_name'].values\n",
    "#             for l in companies:\n",
    "#                 layer3.append({\"name\": l, \"size\": int(df3[df3['company_name'] == l]['price_amount'].values[0])})\n",
    "           \n",
    "#             layer2.append({\"name\": k, \"children\": layer3})\n",
    "         \n",
    "#         layer1.append({\"name\": j, \"children\": layer2})\n",
    "\n",
    "    \n",
    "#     layer0.append({\"name\": i, \"children\": layer1})\n",
    "\n",
    "# finaljson = {\"name\": \"acquisitions\", \"children\": layer0}"
   ]
  },
  {
   "cell_type": "code",
   "execution_count": 20,
   "metadata": {},
   "outputs": [],
   "source": [
    "layer0 = []\n",
    "for i in desiredMarkets: # 1. acquirer market \n",
    "    valuation0 = 0\n",
    "    df1 = acquisitions_df[acquisitions_df['acquirer_market'] == i]\n",
    "    companiesInMarket = set(df1['acquirer_name'].values) # 2. acquirer\n",
    "    layer1 = []\n",
    "    for j in companiesInMarket:\n",
    "        valuation1 = 0\n",
    "        df2 = df1[df1['acquirer_name'] == j]\n",
    "        marketAcquired = set(df2['company_market'].values) # 3. markets acquired\n",
    "        layer2 = []\n",
    "        for k in marketAcquired: \n",
    "            valuation2 = 0\n",
    "            df3 = df2[df2['company_market'] == k]\n",
    "            companies = df3['company_name'].values\n",
    "            layer3 = []\n",
    "            for l in companies:\n",
    "                layer3.append({\"name\": l, \"size\": int(df3[df3['company_name'] == l]['price_amount'].values[0])})\n",
    "                valuation0 += int(df3[df3['company_name'] == l]['price_amount'].values[0])\n",
    "                valuation1 += int(df3[df3['company_name'] == l]['price_amount'].values[0])\n",
    "                valuation2 += int(df3[df3['company_name'] == l]['price_amount'].values[0])\n",
    "           \n",
    "            layer2.append({\"name\": k, \"value\": valuation2, \"children\": layer3})\n",
    "         \n",
    "        layer1.append({\"name\": j, \"value\": valuation1, \"children\": layer2})\n",
    "\n",
    "    layer0.append({\"name\": i, \"value\": valuation0, \"children\": layer1})\n",
    "\n",
    "finaljson = {\"name\": \"acquisitions\", \"children\": layer0}"
   ]
  },
  {
   "cell_type": "code",
   "execution_count": 23,
   "metadata": {},
   "outputs": [],
   "source": [
    "# finaljson"
   ]
  },
  {
   "cell_type": "code",
   "execution_count": 22,
   "metadata": {},
   "outputs": [],
   "source": [
    "with open('chartPacking.json', 'w') as outfile:\n",
    "    json.dump(finaljson, outfile)"
   ]
  }
 ],
 "metadata": {
  "kernelspec": {
   "display_name": "Python 3",
   "language": "python",
   "name": "python3"
  },
  "language_info": {
   "codemirror_mode": {
    "name": "ipython",
    "version": 3
   },
   "file_extension": ".py",
   "mimetype": "text/x-python",
   "name": "python",
   "nbconvert_exporter": "python",
   "pygments_lexer": "ipython3",
   "version": "3.7.4"
  }
 },
 "nbformat": 4,
 "nbformat_minor": 2
}
