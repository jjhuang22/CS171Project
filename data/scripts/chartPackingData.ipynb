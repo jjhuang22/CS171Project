{
 "cells": [
  {
   "cell_type": "code",
   "execution_count": 1,
   "metadata": {},
   "outputs": [],
   "source": [
    "import numpy as np\n",
    "import pandas as pd\n",
    "import json"
   ]
  },
  {
   "cell_type": "code",
   "execution_count": 13,
   "metadata": {},
   "outputs": [],
   "source": [
    "desiredCompanies = ['Google', 'Yahoo!', 'AOL', 'Oracle Corporation', 'Microsoft', 'Salesforce', \n",
    "                    'Facebook', 'Hewlett-Packard', 'Cisco', 'Apple']\n",
    "# desiredMarkets = ['Service Provider', 'Social Media', 'Enterprise Software', 'Software', \"Hardware + Software\"]"
   ]
  },
  {
   "cell_type": "code",
   "execution_count": 14,
   "metadata": {},
   "outputs": [],
   "source": [
    "acquisitions_df = pd.read_csv(\"../clean/changedMarket.csv\").drop(columns = ['Unnamed: 0'])"
   ]
  },
  {
   "cell_type": "code",
   "execution_count": 15,
   "metadata": {},
   "outputs": [],
   "source": [
    "acquisitions_df.loc[acquisitions_df['company_market'] == 'Hardware + Software', 'company_market'] = 'Hardware'"
   ]
  },
  {
   "cell_type": "markdown",
   "metadata": {},
   "source": [
    "Label Fixes"
   ]
  },
  {
   "cell_type": "code",
   "execution_count": 16,
   "metadata": {},
   "outputs": [],
   "source": [
    "acquisitions_df.loc[acquisitions_df['company_name'] == 'PostPath', 'company_market'] = 'Enterprise Software'\n",
    "acquisitions_df.loc[acquisitions_df['company_name'] == 'Pure Digital Technologies', 'company_market'] = 'Video'\n",
    "acquisitions_df.loc[acquisitions_df['company_name'] == 'Lala', 'company_market'] = 'Social Media'\n",
    "\n",
    "acquisitions_df.loc[acquisitions_df['company_name'] == 'Equivio', 'company_market'] = 'Software'\n",
    "acquisitions_df.loc[acquisitions_df['company_name'] == 'Greenfield Online', 'company_market'] = 'Software'\n",
    "acquisitions_df.loc[acquisitions_df['company_name'] == 'Skybox Imaging', 'company_market'] = 'Hardware'\n",
    "acquisitions_df.loc[acquisitions_df['company_name'] == 'Bolt | Peters', 'company_market'] = 'Design'\n",
    "acquisitions_df.loc[acquisitions_df['company_name'] == 'Farecast', 'company_market'] = 'Service Provider'"
   ]
  },
  {
   "cell_type": "markdown",
   "metadata": {},
   "source": [
    "Dumb Companies"
   ]
  },
  {
   "cell_type": "code",
   "execution_count": 17,
   "metadata": {},
   "outputs": [],
   "source": [
    "acquisitions_df = acquisitions_df[acquisitions_df['company_name'] != 'Hot Potato']\n",
    "acquisitions_df = acquisitions_df[acquisitions_df['company_name'] != 'Nextstop']"
   ]
  },
  {
   "cell_type": "code",
   "execution_count": 18,
   "metadata": {},
   "outputs": [],
   "source": [
    "layer1 = []\n",
    "for i in desiredCompanies: \n",
    "    valuation1 = 0\n",
    "    numCompanies1 = 0\n",
    "    df1 = acquisitions_df[acquisitions_df['acquirer_name'] == i]\n",
    "    marketAcquired = set(df1['company_market'].values)\n",
    "    layer2 = []\n",
    "    for j in marketAcquired:\n",
    "        valuation2 = 0\n",
    "        df2 = df1[df1['company_market'] == j]\n",
    "        companies = set(df2['company_name'].values)\n",
    "        layer3 = []\n",
    "        for l in companies:\n",
    "            layer3.append({\"name\": l, \"size\": int(df2[df2['company_name'] == l]['price_amount'].values[0]), \"numCompanies\": 1})\n",
    "            valuation1 += int(df2[df2['company_name'] == l]['price_amount'].values[0])\n",
    "            valuation2 += int(df2[df2['company_name'] == l]['price_amount'].values[0])\n",
    "            numCompanies1 += 1\n",
    "           \n",
    "        layer2.append({\"name\": j, \"value\": valuation2, \"numCompanies\": len(companies), \"children\": layer3})\n",
    "         \n",
    "    layer1.append({\"name\": i, \"value\": valuation1, \"numCompanies\": numCompanies1, \"children\": layer2})\n",
    "\n",
    "\n",
    "finaljson = {\"name\": \"acquisitions\", \"children\": layer1}"
   ]
  },
  {
   "cell_type": "code",
   "execution_count": 19,
   "metadata": {},
   "outputs": [],
   "source": [
    "with open('../clean/chartPacking.json', 'w') as outfile:\n",
    "    json.dump(finaljson, outfile)"
   ]
  },
  {
   "cell_type": "code",
   "execution_count": 9,
   "metadata": {},
   "outputs": [],
   "source": [
    "# # sort by companies\n",
    "# layer1 = []\n",
    "# for i in desiredCompanies: \n",
    "#     valuation1 = 0\n",
    "#     numCompanies1 = 0\n",
    "#     df1 = acquisitions_df[acquisitions_df['acquirer_name'] == i]\n",
    "#     marketAcquired = set(df1['company_market'].values)\n",
    "#     layer2 = []\n",
    "#     for j in marketAcquired:\n",
    "#         valuation2 = 0\n",
    "#         df2 = df1[df1['company_market'] == j]\n",
    "#         companies = set(df2['company_name'].values)\n",
    "#         layer3 = []\n",
    "#         for l in companies:\n",
    "#             layer3.append({\"name\": l, \"size\": 1})\n",
    "# #             valuation1 += int(df2[df2['company_name'] == l]['price_amount'].values[0])\n",
    "# #             valuation2 += int(df2[df2['company_name'] == l]['price_amount'].values[0])\n",
    "#             numCompanies1 += 1\n",
    "           \n",
    "#         layer2.append({\"name\": j, \"value\": len(companies), \"children\": layer3})\n",
    "         \n",
    "#     layer1.append({\"name\": i, \"value\": numCompanies1, \"children\": layer2})\n",
    "\n",
    "\n",
    "# finaljson = {\"name\": \"acquisitions\", \"children\": layer1}"
   ]
  },
  {
   "cell_type": "code",
   "execution_count": 11,
   "metadata": {},
   "outputs": [],
   "source": [
    "# layer0 = []\n",
    "# for i in desiredMarkets: # 1. acquirer market \n",
    "#     valuation0 = 0\n",
    "#     df1 = acquisitions_df[acquisitions_df['acquirer_market'] == i]\n",
    "#     companiesInMarket = set(df1['acquirer_name'].values) # 2. acquirer\n",
    "#     layer1 = []\n",
    "#     for j in companiesInMarket:\n",
    "#         valuation1 = 0\n",
    "#         df2 = df1[df1['acquirer_name'] == j]\n",
    "#         marketAcquired = set(df2['company_market'].values) # 3. markets acquired\n",
    "#         layer2 = []\n",
    "#         for k in marketAcquired: \n",
    "#             valuation2 = 0\n",
    "#             df3 = df2[df2['company_market'] == k]\n",
    "#             companies = df3['company_name'].values\n",
    "#             layer3 = []\n",
    "#             for l in companies:\n",
    "#                 layer3.append({\"name\": l, \"size\": int(df3[df3['company_name'] == l]['price_amount'].values[0])})\n",
    "#                 valuation0 += int(df3[df3['company_name'] == l]['price_amount'].values[0])\n",
    "#                 valuation1 += int(df3[df3['company_name'] == l]['price_amount'].values[0])\n",
    "#                 valuation2 += int(df3[df3['company_name'] == l]['price_amount'].values[0])\n",
    "           \n",
    "#             layer2.append({\"name\": k, \"value\": valuation2, \"children\": layer3})\n",
    "         \n",
    "#         layer1.append({\"name\": j, \"value\": valuation1, \"children\": layer2})\n",
    "\n",
    "#     layer0.append({\"name\": i, \"value\": valuation0, \"children\": layer1})\n",
    "\n",
    "# finaljson = {\"name\": \"acquisitions\", \"children\": layer0}"
   ]
  }
 ],
 "metadata": {
  "kernelspec": {
   "display_name": "Python 3",
   "language": "python",
   "name": "python3"
  },
  "language_info": {
   "codemirror_mode": {
    "name": "ipython",
    "version": 3
   },
   "file_extension": ".py",
   "mimetype": "text/x-python",
   "name": "python",
   "nbconvert_exporter": "python",
   "pygments_lexer": "ipython3",
   "version": "3.7.4"
  }
 },
 "nbformat": 4,
 "nbformat_minor": 2
}
