{
 "cells": [
  {
   "cell_type": "code",
   "execution_count": 5,
   "metadata": {},
   "outputs": [],
   "source": [
    "import numpy as np\n",
    "import pandas as pd\n",
    "import json"
   ]
  },
  {
   "cell_type": "code",
   "execution_count": 6,
   "metadata": {},
   "outputs": [],
   "source": [
    "desiredCompanies = ['Google', 'Yahoo!', 'AOL', 'Oracle Corporation', 'Microsoft', 'Salesforce', \n",
    "                    'Facebook', 'Hewlett-Packard', 'Cisco', 'Apple']\n",
    "desiredMarkets = ['Service Provider', 'Social Media', 'Enterprise Software', 'Software', \"Hardware + Software\"]"
   ]
  },
  {
   "cell_type": "code",
   "execution_count": 7,
   "metadata": {},
   "outputs": [],
   "source": [
    "acquisitions_df = pd.read_csv(\"../clean/changedMarket.csv\").drop(columns = ['Unnamed: 0'])"
   ]
  },
  {
   "cell_type": "code",
   "execution_count": 8,
   "metadata": {},
   "outputs": [],
   "source": [
    "layer0 = []\n",
    "for i in desiredMarkets: # 1. acquirer market \n",
    "    valuation0 = 0\n",
    "    df1 = acquisitions_df[acquisitions_df['acquirer_market'] == i]\n",
    "    companiesInMarket = set(df1['acquirer_name'].values) # 2. acquirer\n",
    "    layer1 = []\n",
    "    for j in companiesInMarket:\n",
    "        valuation1 = 0\n",
    "        df2 = df1[df1['acquirer_name'] == j]\n",
    "        marketAcquired = set(df2['company_market'].values) # 3. markets acquired\n",
    "        layer2 = []\n",
    "        for k in marketAcquired: \n",
    "            valuation2 = 0\n",
    "            df3 = df2[df2['company_market'] == k]\n",
    "            companies = df3['company_name'].values\n",
    "            layer3 = []\n",
    "            for l in companies:\n",
    "                layer3.append({\"name\": l, \"size\": int(df3[df3['company_name'] == l]['price_amount'].values[0])})\n",
    "                valuation0 += int(df3[df3['company_name'] == l]['price_amount'].values[0])\n",
    "                valuation1 += int(df3[df3['company_name'] == l]['price_amount'].values[0])\n",
    "                valuation2 += int(df3[df3['company_name'] == l]['price_amount'].values[0])\n",
    "           \n",
    "            layer2.append({\"name\": k, \"value\": valuation2, \"children\": layer3})\n",
    "         \n",
    "        layer1.append({\"name\": j, \"value\": valuation1, \"children\": layer2})\n",
    "\n",
    "    layer0.append({\"name\": i, \"value\": valuation0, \"children\": layer1})\n",
    "\n",
    "finaljson = {\"name\": \"acquisitions\", \"children\": layer0}"
   ]
  },
  {
   "cell_type": "code",
   "execution_count": 9,
   "metadata": {},
   "outputs": [],
   "source": [
    "with open('../clean/chartPacking.json', 'w') as outfile:\n",
    "    json.dump(finaljson, outfile)"
   ]
  }
 ],
 "metadata": {
  "kernelspec": {
   "display_name": "Python 3",
   "language": "python",
   "name": "python3"
  },
  "language_info": {
   "codemirror_mode": {
    "name": "ipython",
    "version": 3
   },
   "file_extension": ".py",
   "mimetype": "text/x-python",
   "name": "python",
   "nbconvert_exporter": "python",
   "pygments_lexer": "ipython3",
   "version": "3.7.4"
  }
 },
 "nbformat": 4,
 "nbformat_minor": 2
}
