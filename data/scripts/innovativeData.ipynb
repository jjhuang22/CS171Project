{
 "cells": [
  {
   "cell_type": "code",
   "execution_count": 1,
   "metadata": {},
   "outputs": [],
   "source": [
    "import numpy as np\n",
    "import pandas as pd\n",
    "import seaborn as sns\n",
    "import matplotlib.pyplot as plt"
   ]
  },
  {
   "cell_type": "code",
   "execution_count": 2,
   "metadata": {},
   "outputs": [],
   "source": [
    "ok = pd.read_csv(\"../raw/rounds.csv\", encoding = 'ISO-8859-1')\n",
    "ok.drop(['company_permalink', 'company_category_list', 'funding_round_permalink', 'Unnamed: 16'], axis=1, inplace=True)\n",
    "ok['funding_round_type'] = [i if i != 'angel' else 'seed' for i in ok['funding_round_type'].values]\n",
    "for i in ok['funding_round_type'].unique()[2:]:\n",
    "    ok.drop(ok.loc[ok['funding_round_type']==i].index, inplace=True)\n",
    "ok['funding_round_type'] = [i if i != 'seed' else 'seed/angel' for i in ok['funding_round_type'].values]\n",
    "ok[['funding_round_type', 'funding_round_code']] = [[i[0], '0'] if i[0] == 'seed/angel' else [i[0], i[1]] for i in ok[['funding_round_type', 'funding_round_code']].values]\n",
    "ok.dropna(inplace=True)\n",
    "ok.rename(columns={' raised_amount_usd ': 'raised_amount_usd'}, inplace=True)\n",
    "ok.drop(ok[ok['raised_amount_usd'] == ' -   '].index, inplace=True)\n",
    "ok['raised_amount_usd'] = [int(i[1:-1].replace(',', '')) for i in ok['raised_amount_usd'].values]"
   ]
  },
  {
   "cell_type": "code",
   "execution_count": 3,
   "metadata": {},
   "outputs": [],
   "source": [
    "ok.sort_values('funded_at')\n",
    "ok.drop_duplicates(subset=['company_name', 'funding_round_code'], keep='last', inplace=True)\n",
    "for i in ok['company_name'].unique():\n",
    "    if len(ok[ok['company_name'] == i]) == 1:\n",
    "            ok.drop(ok[ok['company_name'] == i].index, inplace=True)"
   ]
  },
  {
   "cell_type": "code",
   "execution_count": 4,
   "metadata": {},
   "outputs": [],
   "source": [
    "ok.sort_values(['company_name', 'funding_round_code'], inplace=True)"
   ]
  },
  {
   "cell_type": "code",
   "execution_count": 5,
   "metadata": {},
   "outputs": [],
   "source": [
    "ok.to_csv('../clean/rounds_final.csv')"
   ]
  },
  {
   "cell_type": "code",
   "execution_count": 6,
   "metadata": {},
   "outputs": [],
   "source": [
    "uh = ok.copy()\n",
    "doi = pd.read_csv(\"../clean/companies_final.csv\", encoding = 'ISO-8859-1')\n",
    "doi.rename(columns={'name': 'company_name'}, inplace=True)\n",
    "toi = uh.merge(doi[['company_name', 'founded_at']], on='company_name')\n",
    "# sns.histplot(x='funding_round_code', data=toi[['funding_round_code']])\n",
    "# toi.drop_duplicates(subset=[''], )"
   ]
  },
  {
   "cell_type": "code",
   "execution_count": 7,
   "metadata": {},
   "outputs": [],
   "source": [
    "toi.drop(toi[-toi['funding_round_code'].isin(['A', 'B', 'C', '0'])].index, inplace=True)"
   ]
  },
  {
   "cell_type": "code",
   "execution_count": 8,
   "metadata": {},
   "outputs": [],
   "source": [
    "toi.to_csv('../clean/rounds_final.csv')"
   ]
  }
 ],
 "metadata": {
  "kernelspec": {
   "display_name": "Python 3",
   "language": "python",
   "name": "python3"
  },
  "language_info": {
   "codemirror_mode": {
    "name": "ipython",
    "version": 3
   },
   "file_extension": ".py",
   "mimetype": "text/x-python",
   "name": "python",
   "nbconvert_exporter": "python",
   "pygments_lexer": "ipython3",
   "version": "3.7.4"
  }
 },
 "nbformat": 4,
 "nbformat_minor": 4
}
