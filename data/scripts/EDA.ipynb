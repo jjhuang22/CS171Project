{
 "cells": [
  {
   "cell_type": "code",
   "execution_count": 1,
   "metadata": {},
   "outputs": [],
   "source": [
    "import numpy as np\n",
    "import pandas as pd\n",
    "import seaborn as sns\n",
    "import matplotlib.pyplot as plt"
   ]
  },
  {
   "cell_type": "markdown",
   "metadata": {},
   "source": [
    "## Preparing Companies DF"
   ]
  },
  {
   "cell_type": "code",
   "execution_count": 2,
   "metadata": {},
   "outputs": [],
   "source": [
    "rounds_df = pd.read_csv(\"../raw/rounds.csv\", encoding = 'ISO-8859-1').drop('Unnamed: 16', axis = 1).dropna()"
   ]
  },
  {
   "cell_type": "code",
   "execution_count": 3,
   "metadata": {},
   "outputs": [],
   "source": [
    "us_state_abbrev = {\n",
    "    'Alabama': 'AL',\n",
    "    'Alaska': 'AK',\n",
    "    'Arizona': 'AZ',\n",
    "    'Arkansas': 'AR',\n",
    "    'California': 'CA',\n",
    "    'Colorado': 'CO',\n",
    "    'Connecticut': 'CT',\n",
    "    'Delaware': 'DE',\n",
    "    'District of Columbia': 'DC',\n",
    "    'Florida': 'FL',\n",
    "    'Georgia': 'GA',\n",
    "#     'Guam': 'GU',\n",
    "    'Hawaii': 'HI',\n",
    "    'Idaho': 'ID',\n",
    "    'Illinois': 'IL',\n",
    "    'Indiana': 'IN',\n",
    "    'Iowa': 'IA',\n",
    "    'Kansas': 'KS',\n",
    "    'Kentucky': 'KY',\n",
    "    'Louisiana': 'LA',\n",
    "    'Maine': 'ME',\n",
    "    'Maryland': 'MD',\n",
    "    'Massachusetts': 'MA',\n",
    "    'Michigan': 'MI',\n",
    "    'Minnesota': 'MN',\n",
    "    'Mississippi': 'MS',\n",
    "    'Missouri': 'MO',\n",
    "    'Montana': 'MT',\n",
    "    'Nebraska': 'NE',\n",
    "    'Nevada': 'NV',\n",
    "    'New Hampshire': 'NH',\n",
    "    'New Jersey': 'NJ',\n",
    "    'New Mexico': 'NM',\n",
    "    'New York': 'NY',\n",
    "    'North Carolina': 'NC',\n",
    "    'North Dakota': 'ND',\n",
    "#     'Northern Mariana Islands':'MP',\n",
    "    'Ohio': 'OH',\n",
    "    'Oklahoma': 'OK',\n",
    "    'Oregon': 'OR',\n",
    "    'Pennsylvania': 'PA',\n",
    "#     'Puerto Rico': 'PR',\n",
    "    'Rhode Island': 'RI',\n",
    "    'South Carolina': 'SC',\n",
    "    'South Dakota': 'SD',\n",
    "    'Tennessee': 'TN',\n",
    "    'Texas': 'TX',\n",
    "    'Utah': 'UT',\n",
    "    'Vermont': 'VT',\n",
    "#     'Virgin Islands': 'VI',\n",
    "    'Virginia': 'VA',\n",
    "    'Washington': 'WA',\n",
    "    'West Virginia': 'WV',\n",
    "    'Wisconsin': 'WI',\n",
    "    'Wyoming': 'WY'\n",
    "}"
   ]
  },
  {
   "cell_type": "code",
   "execution_count": 4,
   "metadata": {},
   "outputs": [],
   "source": [
    "companies_df = pd.read_csv(\"../raw/companies.csv\", encoding = 'ISO-8859-1').dropna()\n",
    "companies_df.rename(columns = lambda x: x.strip(), inplace = True)\n",
    "\n",
    "companies_df['city'] = companies_df['city'].astype(str)\n",
    "companies_df['market'] = companies_df['market'].apply(lambda x: x.strip())\n",
    "\n",
    "companies_df['funding_total_usd'] = companies_df['funding_total_usd'].apply(lambda x: x.replace(',', '').strip())\n",
    "companies_df = companies_df[companies_df['funding_total_usd'] != '-']\n",
    "\n",
    "for col in ['funding_total_usd', 'founded_year', 'funding_rounds']:\n",
    "    companies_df[col] = companies_df[col].astype(int)"
   ]
  },
  {
   "cell_type": "code",
   "execution_count": 5,
   "metadata": {},
   "outputs": [
    {
     "data": {
      "text/html": [
       "<div>\n",
       "<style scoped>\n",
       "    .dataframe tbody tr th:only-of-type {\n",
       "        vertical-align: middle;\n",
       "    }\n",
       "\n",
       "    .dataframe tbody tr th {\n",
       "        vertical-align: top;\n",
       "    }\n",
       "\n",
       "    .dataframe thead th {\n",
       "        text-align: right;\n",
       "    }\n",
       "</style>\n",
       "<table border=\"1\" class=\"dataframe\">\n",
       "  <thead>\n",
       "    <tr style=\"text-align: right;\">\n",
       "      <th></th>\n",
       "      <th>permalink</th>\n",
       "      <th>name</th>\n",
       "      <th>homepage_url</th>\n",
       "      <th>category_list</th>\n",
       "      <th>market</th>\n",
       "      <th>funding_total_usd</th>\n",
       "      <th>status</th>\n",
       "      <th>country_code</th>\n",
       "      <th>state_code</th>\n",
       "      <th>region</th>\n",
       "      <th>city</th>\n",
       "      <th>funding_rounds</th>\n",
       "      <th>founded_at</th>\n",
       "      <th>founded_month</th>\n",
       "      <th>founded_quarter</th>\n",
       "      <th>founded_year</th>\n",
       "      <th>first_funding_at</th>\n",
       "      <th>last_funding_at</th>\n",
       "    </tr>\n",
       "  </thead>\n",
       "  <tbody>\n",
       "    <tr>\n",
       "      <td>0</td>\n",
       "      <td>/organization/waywire</td>\n",
       "      <td>#waywire</td>\n",
       "      <td>http://www.waywire.com</td>\n",
       "      <td>|Entertainment|Politics|Social Media|News|</td>\n",
       "      <td>News</td>\n",
       "      <td>1750000</td>\n",
       "      <td>acquired</td>\n",
       "      <td>USA</td>\n",
       "      <td>NY</td>\n",
       "      <td>New York City</td>\n",
       "      <td>New York</td>\n",
       "      <td>1</td>\n",
       "      <td>2012-06-01</td>\n",
       "      <td>2012-06</td>\n",
       "      <td>2012-Q2</td>\n",
       "      <td>2012</td>\n",
       "      <td>2012-06-30</td>\n",
       "      <td>2012-06-30</td>\n",
       "    </tr>\n",
       "    <tr>\n",
       "      <td>13</td>\n",
       "      <td>/organization/1-800-doctors</td>\n",
       "      <td>1-800-DOCTORS</td>\n",
       "      <td>http://1800doctors.com</td>\n",
       "      <td>|Health and Wellness|</td>\n",
       "      <td>Health and Wellness</td>\n",
       "      <td>1750000</td>\n",
       "      <td>operating</td>\n",
       "      <td>USA</td>\n",
       "      <td>NJ</td>\n",
       "      <td>Newark</td>\n",
       "      <td>Iselin</td>\n",
       "      <td>1</td>\n",
       "      <td>1984-01-01</td>\n",
       "      <td>1984-01</td>\n",
       "      <td>1984-Q1</td>\n",
       "      <td>1984</td>\n",
       "      <td>2011-03-02</td>\n",
       "      <td>2011-03-02</td>\n",
       "    </tr>\n",
       "    <tr>\n",
       "      <td>16</td>\n",
       "      <td>/organization/10-20-media</td>\n",
       "      <td>10-20 Media</td>\n",
       "      <td>http://www.10-20media.com</td>\n",
       "      <td>|E-Commerce|</td>\n",
       "      <td>E-Commerce</td>\n",
       "      <td>2050000</td>\n",
       "      <td>operating</td>\n",
       "      <td>USA</td>\n",
       "      <td>MD</td>\n",
       "      <td>Baltimore</td>\n",
       "      <td>Woodbine</td>\n",
       "      <td>4</td>\n",
       "      <td>2001-01-01</td>\n",
       "      <td>2001-01</td>\n",
       "      <td>2001-Q1</td>\n",
       "      <td>2001</td>\n",
       "      <td>2009-06-18</td>\n",
       "      <td>2011-12-28</td>\n",
       "    </tr>\n",
       "    <tr>\n",
       "      <td>17</td>\n",
       "      <td>/organization/1000-corks</td>\n",
       "      <td>1000 Corks</td>\n",
       "      <td>http://1000corks.com</td>\n",
       "      <td>|Search|</td>\n",
       "      <td>Search</td>\n",
       "      <td>40000</td>\n",
       "      <td>operating</td>\n",
       "      <td>USA</td>\n",
       "      <td>OR</td>\n",
       "      <td>Portland, Oregon</td>\n",
       "      <td>Lake Oswego</td>\n",
       "      <td>1</td>\n",
       "      <td>2008-01-01</td>\n",
       "      <td>2008-01</td>\n",
       "      <td>2008-Q1</td>\n",
       "      <td>2008</td>\n",
       "      <td>2011-08-23</td>\n",
       "      <td>2011-08-23</td>\n",
       "    </tr>\n",
       "    <tr>\n",
       "      <td>20</td>\n",
       "      <td>/organization/1000memories</td>\n",
       "      <td>1000memories</td>\n",
       "      <td>http://1000memories.com</td>\n",
       "      <td>|Curated Web|</td>\n",
       "      <td>Curated Web</td>\n",
       "      <td>2535000</td>\n",
       "      <td>acquired</td>\n",
       "      <td>USA</td>\n",
       "      <td>CA</td>\n",
       "      <td>SF Bay Area</td>\n",
       "      <td>San Francisco</td>\n",
       "      <td>2</td>\n",
       "      <td>2010-07-01</td>\n",
       "      <td>2010-07</td>\n",
       "      <td>2010-Q3</td>\n",
       "      <td>2010</td>\n",
       "      <td>2010-01-01</td>\n",
       "      <td>2011-02-16</td>\n",
       "    </tr>\n",
       "    <tr>\n",
       "      <td>...</td>\n",
       "      <td>...</td>\n",
       "      <td>...</td>\n",
       "      <td>...</td>\n",
       "      <td>...</td>\n",
       "      <td>...</td>\n",
       "      <td>...</td>\n",
       "      <td>...</td>\n",
       "      <td>...</td>\n",
       "      <td>...</td>\n",
       "      <td>...</td>\n",
       "      <td>...</td>\n",
       "      <td>...</td>\n",
       "      <td>...</td>\n",
       "      <td>...</td>\n",
       "      <td>...</td>\n",
       "      <td>...</td>\n",
       "      <td>...</td>\n",
       "      <td>...</td>\n",
       "    </tr>\n",
       "    <tr>\n",
       "      <td>49425</td>\n",
       "      <td>/organization/zynerba-pharmaceuticals</td>\n",
       "      <td>Zynerba Pharmaceuticals</td>\n",
       "      <td>http://zynerba.com</td>\n",
       "      <td>|Pharmaceuticals|</td>\n",
       "      <td>Pharmaceuticals</td>\n",
       "      <td>13000000</td>\n",
       "      <td>operating</td>\n",
       "      <td>USA</td>\n",
       "      <td>PA</td>\n",
       "      <td>Philadelphia</td>\n",
       "      <td>Radnor</td>\n",
       "      <td>1</td>\n",
       "      <td>2014-01-01</td>\n",
       "      <td>2014-01</td>\n",
       "      <td>2014-Q1</td>\n",
       "      <td>2014</td>\n",
       "      <td>2014-10-14</td>\n",
       "      <td>2014-10-14</td>\n",
       "    </tr>\n",
       "    <tr>\n",
       "      <td>49426</td>\n",
       "      <td>/organization/zynga</td>\n",
       "      <td>Zynga</td>\n",
       "      <td>http://www.zynga.com</td>\n",
       "      <td>|Technology|Facebook Applications|Networking|G...</td>\n",
       "      <td>Technology</td>\n",
       "      <td>866550786</td>\n",
       "      <td>operating</td>\n",
       "      <td>USA</td>\n",
       "      <td>CA</td>\n",
       "      <td>SF Bay Area</td>\n",
       "      <td>San Francisco</td>\n",
       "      <td>9</td>\n",
       "      <td>2007-07-01</td>\n",
       "      <td>2007-07</td>\n",
       "      <td>2007-Q3</td>\n",
       "      <td>2007</td>\n",
       "      <td>2007-01-01</td>\n",
       "      <td>2011-02-18</td>\n",
       "    </tr>\n",
       "    <tr>\n",
       "      <td>49427</td>\n",
       "      <td>/organization/zyngenia</td>\n",
       "      <td>Zyngenia</td>\n",
       "      <td>http://www.zyngenia.com</td>\n",
       "      <td>|Biotechnology|</td>\n",
       "      <td>Biotechnology</td>\n",
       "      <td>25000000</td>\n",
       "      <td>operating</td>\n",
       "      <td>USA</td>\n",
       "      <td>MD</td>\n",
       "      <td>Washington, D.C.</td>\n",
       "      <td>Gaithersburg</td>\n",
       "      <td>1</td>\n",
       "      <td>2008-01-01</td>\n",
       "      <td>2008-01</td>\n",
       "      <td>2008-Q1</td>\n",
       "      <td>2008</td>\n",
       "      <td>2010-09-09</td>\n",
       "      <td>2010-09-09</td>\n",
       "    </tr>\n",
       "    <tr>\n",
       "      <td>49429</td>\n",
       "      <td>/organization/zyomyx-inc</td>\n",
       "      <td>ZYOMYX</td>\n",
       "      <td>http://www.zyomyx.com</td>\n",
       "      <td>|Biotechnology|</td>\n",
       "      <td>Biotechnology</td>\n",
       "      <td>34275015</td>\n",
       "      <td>operating</td>\n",
       "      <td>USA</td>\n",
       "      <td>MO</td>\n",
       "      <td>MO - Other</td>\n",
       "      <td>Fremont</td>\n",
       "      <td>4</td>\n",
       "      <td>1998-01-01</td>\n",
       "      <td>1998-01</td>\n",
       "      <td>1998-Q1</td>\n",
       "      <td>1998</td>\n",
       "      <td>2010-01-29</td>\n",
       "      <td>2014-03-26</td>\n",
       "    </tr>\n",
       "    <tr>\n",
       "      <td>49437</td>\n",
       "      <td>/organization/x</td>\n",
       "      <td>[x+1]</td>\n",
       "      <td>http://www.xplusone.com/</td>\n",
       "      <td>|Enterprise Software|</td>\n",
       "      <td>Enterprise Software</td>\n",
       "      <td>45000000</td>\n",
       "      <td>operating</td>\n",
       "      <td>USA</td>\n",
       "      <td>NY</td>\n",
       "      <td>New York City</td>\n",
       "      <td>New York</td>\n",
       "      <td>4</td>\n",
       "      <td>1999-01-01</td>\n",
       "      <td>1999-01</td>\n",
       "      <td>1999-Q1</td>\n",
       "      <td>1999</td>\n",
       "      <td>2008-06-01</td>\n",
       "      <td>2013-04-04</td>\n",
       "    </tr>\n",
       "  </tbody>\n",
       "</table>\n",
       "<p>19137 rows × 18 columns</p>\n",
       "</div>"
      ],
      "text/plain": [
       "                                   permalink                     name  \\\n",
       "0                      /organization/waywire                 #waywire   \n",
       "13               /organization/1-800-doctors            1-800-DOCTORS   \n",
       "16                 /organization/10-20-media              10-20 Media   \n",
       "17                  /organization/1000-corks               1000 Corks   \n",
       "20                /organization/1000memories             1000memories   \n",
       "...                                      ...                      ...   \n",
       "49425  /organization/zynerba-pharmaceuticals  Zynerba Pharmaceuticals   \n",
       "49426                    /organization/zynga                    Zynga   \n",
       "49427                 /organization/zyngenia                 Zyngenia   \n",
       "49429               /organization/zyomyx-inc                   ZYOMYX   \n",
       "49437                        /organization/x                    [x+1]   \n",
       "\n",
       "                    homepage_url  \\\n",
       "0         http://www.waywire.com   \n",
       "13        http://1800doctors.com   \n",
       "16     http://www.10-20media.com   \n",
       "17          http://1000corks.com   \n",
       "20       http://1000memories.com   \n",
       "...                          ...   \n",
       "49425         http://zynerba.com   \n",
       "49426       http://www.zynga.com   \n",
       "49427    http://www.zyngenia.com   \n",
       "49429      http://www.zyomyx.com   \n",
       "49437   http://www.xplusone.com/   \n",
       "\n",
       "                                           category_list               market  \\\n",
       "0             |Entertainment|Politics|Social Media|News|                 News   \n",
       "13                                 |Health and Wellness|  Health and Wellness   \n",
       "16                                          |E-Commerce|           E-Commerce   \n",
       "17                                              |Search|               Search   \n",
       "20                                         |Curated Web|          Curated Web   \n",
       "...                                                  ...                  ...   \n",
       "49425                                  |Pharmaceuticals|      Pharmaceuticals   \n",
       "49426  |Technology|Facebook Applications|Networking|G...           Technology   \n",
       "49427                                    |Biotechnology|        Biotechnology   \n",
       "49429                                    |Biotechnology|        Biotechnology   \n",
       "49437                              |Enterprise Software|  Enterprise Software   \n",
       "\n",
       "       funding_total_usd     status country_code state_code            region  \\\n",
       "0                1750000   acquired          USA         NY     New York City   \n",
       "13               1750000  operating          USA         NJ            Newark   \n",
       "16               2050000  operating          USA         MD         Baltimore   \n",
       "17                 40000  operating          USA         OR  Portland, Oregon   \n",
       "20               2535000   acquired          USA         CA       SF Bay Area   \n",
       "...                  ...        ...          ...        ...               ...   \n",
       "49425           13000000  operating          USA         PA      Philadelphia   \n",
       "49426          866550786  operating          USA         CA       SF Bay Area   \n",
       "49427           25000000  operating          USA         MD  Washington, D.C.   \n",
       "49429           34275015  operating          USA         MO        MO - Other   \n",
       "49437           45000000  operating          USA         NY     New York City   \n",
       "\n",
       "                city  funding_rounds  founded_at founded_month  \\\n",
       "0           New York               1  2012-06-01       2012-06   \n",
       "13            Iselin               1  1984-01-01       1984-01   \n",
       "16          Woodbine               4  2001-01-01       2001-01   \n",
       "17       Lake Oswego               1  2008-01-01       2008-01   \n",
       "20     San Francisco               2  2010-07-01       2010-07   \n",
       "...              ...             ...         ...           ...   \n",
       "49425         Radnor               1  2014-01-01       2014-01   \n",
       "49426  San Francisco               9  2007-07-01       2007-07   \n",
       "49427   Gaithersburg               1  2008-01-01       2008-01   \n",
       "49429        Fremont               4  1998-01-01       1998-01   \n",
       "49437       New York               4  1999-01-01       1999-01   \n",
       "\n",
       "      founded_quarter  founded_year first_funding_at last_funding_at  \n",
       "0             2012-Q2          2012       2012-06-30      2012-06-30  \n",
       "13            1984-Q1          1984       2011-03-02      2011-03-02  \n",
       "16            2001-Q1          2001       2009-06-18      2011-12-28  \n",
       "17            2008-Q1          2008       2011-08-23      2011-08-23  \n",
       "20            2010-Q3          2010       2010-01-01      2011-02-16  \n",
       "...               ...           ...              ...             ...  \n",
       "49425         2014-Q1          2014       2014-10-14      2014-10-14  \n",
       "49426         2007-Q3          2007       2007-01-01      2011-02-18  \n",
       "49427         2008-Q1          2008       2010-09-09      2010-09-09  \n",
       "49429         1998-Q1          1998       2010-01-29      2014-03-26  \n",
       "49437         1999-Q1          1999       2008-06-01      2013-04-04  \n",
       "\n",
       "[19137 rows x 18 columns]"
      ]
     },
     "execution_count": 5,
     "metadata": {},
     "output_type": "execute_result"
    }
   ],
   "source": [
    "companies_df"
   ]
  },
  {
   "cell_type": "code",
   "execution_count": 6,
   "metadata": {},
   "outputs": [],
   "source": [
    "companies_df['cityMap'] = companies_df['city']"
   ]
  },
  {
   "cell_type": "code",
   "execution_count": 7,
   "metadata": {},
   "outputs": [],
   "source": [
    "# merge Cambridge, MA with Boston, MA\n",
    "companies_df.loc[(companies_df.city == 'Cambridge') & (companies_df.state_code == 'MA'), 'cityMap'] = 'Boston'"
   ]
  },
  {
   "cell_type": "code",
   "execution_count": 8,
   "metadata": {},
   "outputs": [],
   "source": [
    "# merge non-SF Bay Area Cities to Bay Area\n",
    "BAcities = ['Santa Clara', 'Sunnyvale', 'Menlo Park', 'Redwood City', 'San Mateo', 'Fremont']\n",
    "companies_df.loc[companies_df['city'].isin(BAcities), 'cityMap'] = 'Bay Area'"
   ]
  },
  {
   "cell_type": "code",
   "execution_count": 9,
   "metadata": {},
   "outputs": [],
   "source": [
    "worldcities_df = pd.read_csv(\"../raw/worldcities.csv\")\n",
    "worldcities_df = worldcities_df[worldcities_df['country'] == 'United States'][['city', 'lat', 'lng', 'admin_name']]\n",
    "worldcities_df.rename(columns={\"admin_name\": \"state\"}, inplace = True)\n",
    "worldcities_df['city'] = worldcities_df['city'].astype(str)\n",
    "worldcities_df['state_code'] = worldcities_df['state'].apply(lambda x: us_state_abbrev[x])"
   ]
  },
  {
   "cell_type": "code",
   "execution_count": 10,
   "metadata": {},
   "outputs": [],
   "source": [
    "# Fudge locations of Bay Area cities for visual clarity on map\n",
    "worldcities_df.loc[(worldcities_df['city'] == 'Palo Alto'), 'lat'] = 37\n",
    "worldcities_df.loc[(worldcities_df['city'] == 'Mountain View'), 'lng'] = -121"
   ]
  },
  {
   "cell_type": "code",
   "execution_count": 11,
   "metadata": {},
   "outputs": [],
   "source": [
    "# worldcities_df[worldcities_df['city'] == 'San Francisco']"
   ]
  },
  {
   "cell_type": "code",
   "execution_count": 12,
   "metadata": {},
   "outputs": [],
   "source": [
    "# worldcities_df[worldcities_df['city'] == 'Palo Alto']"
   ]
  },
  {
   "cell_type": "code",
   "execution_count": 13,
   "metadata": {},
   "outputs": [],
   "source": [
    "# worldcities_df[worldcities_df['city'] == 'Mountain View']"
   ]
  },
  {
   "cell_type": "code",
   "execution_count": 14,
   "metadata": {},
   "outputs": [],
   "source": [
    "merge_df = companies_df.merge(worldcities_df, how = 'inner', left_on = ['cityMap', 'state_code'], right_on = ['city', 'state_code'])\n",
    "\n",
    "for col in ['lat', 'lng']:\n",
    "    merge_df[col] = merge_df[col].astype(float)\n",
    "    \n",
    "merge_df['cityState'] = merge_df['cityMap'] + \", \" + merge_df['state']"
   ]
  },
  {
   "cell_type": "code",
   "execution_count": 15,
   "metadata": {},
   "outputs": [],
   "source": [
    "merge_df['marketMode'] = (merge_df['cityState'].map(merge_df.groupby('cityState')['market'].agg(lambda x: x.value_counts().idxmax())))"
   ]
  },
  {
   "cell_type": "code",
   "execution_count": 16,
   "metadata": {},
   "outputs": [],
   "source": [
    "merge_df.market = merge_df.market.apply(lambda x: 'Software' if 'Software' in x else x)"
   ]
  },
  {
   "cell_type": "code",
   "execution_count": 17,
   "metadata": {},
   "outputs": [],
   "source": [
    "merge_df.market = merge_df.market.apply(lambda x: 'Health' if 'Health' in x else x)"
   ]
  },
  {
   "cell_type": "code",
   "execution_count": 18,
   "metadata": {},
   "outputs": [],
   "source": [
    "# 2007-2014\n",
    "merge_df = merge_df[merge_df['founded_month'] >= '2007']"
   ]
  },
  {
   "cell_type": "code",
   "execution_count": 19,
   "metadata": {},
   "outputs": [],
   "source": [
    "merge_df.sort_values(by=['founded_at'], inplace=True)"
   ]
  },
  {
   "cell_type": "code",
   "execution_count": 20,
   "metadata": {},
   "outputs": [],
   "source": [
    "merge_df.to_csv(\"../clean/companies_final.csv\")"
   ]
  },
  {
   "cell_type": "code",
   "execution_count": null,
   "metadata": {},
   "outputs": [],
   "source": []
  },
  {
   "cell_type": "code",
   "execution_count": null,
   "metadata": {},
   "outputs": [],
   "source": []
  },
  {
   "cell_type": "markdown",
   "metadata": {},
   "source": [
    "## Analysis into Top Industries"
   ]
  },
  {
   "cell_type": "code",
   "execution_count": 21,
   "metadata": {
    "scrolled": true
   },
   "outputs": [
    {
     "data": {
      "text/html": [
       "<div>\n",
       "<style scoped>\n",
       "    .dataframe tbody tr th:only-of-type {\n",
       "        vertical-align: middle;\n",
       "    }\n",
       "\n",
       "    .dataframe tbody tr th {\n",
       "        vertical-align: top;\n",
       "    }\n",
       "\n",
       "    .dataframe thead th {\n",
       "        text-align: right;\n",
       "    }\n",
       "</style>\n",
       "<table border=\"1\" class=\"dataframe\">\n",
       "  <thead>\n",
       "    <tr style=\"text-align: right;\">\n",
       "      <th></th>\n",
       "      <th>market</th>\n",
       "      <th>count</th>\n",
       "    </tr>\n",
       "  </thead>\n",
       "  <tbody>\n",
       "    <tr>\n",
       "      <td>0</td>\n",
       "      <td>Software</td>\n",
       "      <td>1606</td>\n",
       "    </tr>\n",
       "    <tr>\n",
       "      <td>1</td>\n",
       "      <td>Biotechnology</td>\n",
       "      <td>681</td>\n",
       "    </tr>\n",
       "    <tr>\n",
       "      <td>2</td>\n",
       "      <td>Health</td>\n",
       "      <td>620</td>\n",
       "    </tr>\n",
       "    <tr>\n",
       "      <td>3</td>\n",
       "      <td>Mobile</td>\n",
       "      <td>513</td>\n",
       "    </tr>\n",
       "    <tr>\n",
       "      <td>4</td>\n",
       "      <td>Curated Web</td>\n",
       "      <td>457</td>\n",
       "    </tr>\n",
       "    <tr>\n",
       "      <td>5</td>\n",
       "      <td>E-Commerce</td>\n",
       "      <td>372</td>\n",
       "    </tr>\n",
       "    <tr>\n",
       "      <td>6</td>\n",
       "      <td>Advertising</td>\n",
       "      <td>286</td>\n",
       "    </tr>\n",
       "    <tr>\n",
       "      <td>7</td>\n",
       "      <td>Education</td>\n",
       "      <td>239</td>\n",
       "    </tr>\n",
       "    <tr>\n",
       "      <td>8</td>\n",
       "      <td>Games</td>\n",
       "      <td>233</td>\n",
       "    </tr>\n",
       "    <tr>\n",
       "      <td>9</td>\n",
       "      <td>Social Media</td>\n",
       "      <td>231</td>\n",
       "    </tr>\n",
       "    <tr>\n",
       "      <td>10</td>\n",
       "      <td>Finance</td>\n",
       "      <td>207</td>\n",
       "    </tr>\n",
       "    <tr>\n",
       "      <td>11</td>\n",
       "      <td>Clean Technology</td>\n",
       "      <td>199</td>\n",
       "    </tr>\n",
       "    <tr>\n",
       "      <td>12</td>\n",
       "      <td>Analytics</td>\n",
       "      <td>198</td>\n",
       "    </tr>\n",
       "    <tr>\n",
       "      <td>13</td>\n",
       "      <td>Manufacturing</td>\n",
       "      <td>103</td>\n",
       "    </tr>\n",
       "  </tbody>\n",
       "</table>\n",
       "</div>"
      ],
      "text/plain": [
       "              market  count\n",
       "0           Software   1606\n",
       "1      Biotechnology    681\n",
       "2             Health    620\n",
       "3             Mobile    513\n",
       "4        Curated Web    457\n",
       "5         E-Commerce    372\n",
       "6        Advertising    286\n",
       "7          Education    239\n",
       "8              Games    233\n",
       "9       Social Media    231\n",
       "10           Finance    207\n",
       "11  Clean Technology    199\n",
       "12         Analytics    198\n",
       "13     Manufacturing    103"
      ]
     },
     "execution_count": 21,
     "metadata": {},
     "output_type": "execute_result"
    }
   ],
   "source": [
    "markets = pd.DataFrame(merge_df.groupby('market')['market'].count())\n",
    "markets.rename(columns={'market': 'count'}, inplace=True)\n",
    "markets = markets[markets['count'] > 100]\n",
    "markets.sort_values('count', ascending=False, inplace=True)\n",
    "markets.reset_index(inplace=True)\n",
    "markets"
   ]
  },
  {
   "cell_type": "code",
   "execution_count": 22,
   "metadata": {},
   "outputs": [
    {
     "data": {
      "image/png": "[encoded data removed]",
      "text/plain": [
       "<Figure size 4500x1800 with 1 Axes>"
      ]
     },
     "metadata": {
      "needs_background": "light"
     },
     "output_type": "display_data"
    }
   ],
   "source": [
    "fig, ax = plt.subplots(1,1, figsize=(15,6), dpi=300)\n",
    "sns.barplot(x='market', y='count', data=markets, ax=ax, palette='cool', alpha=.4)\n",
    "plt.xticks(rotation=90)\n",
    "plt.title('Most Common Startup Markets', y=1.05)\n",
    "plt.show()"
   ]
  },
  {
   "cell_type": "code",
   "execution_count": null,
   "metadata": {},
   "outputs": [],
   "source": []
  },
  {
   "cell_type": "markdown",
   "metadata": {},
   "source": [
    "## Analysis for Acquirers"
   ]
  },
  {
   "cell_type": "code",
   "execution_count": 23,
   "metadata": {},
   "outputs": [
    {
     "name": "stderr",
     "output_type": "stream",
     "text": [
      "/Users/jonathanhuang/opt/anaconda3/lib/python3.7/site-packages/IPython/core/interactiveshell.py:3058: DtypeWarning: Columns (0,1,2,3,4,5,6,7,8,9,10,11,12,13,14,15,16,17,18,20,21) have mixed types. Specify dtype option on import or set low_memory=False.\n",
      "  interactivity=interactivity, compiler=compiler, result=result)\n"
     ]
    }
   ],
   "source": [
    "aquisitions_df = pd.read_csv(\"../raw/aquisitions.csv\", encoding = 'ISO-8859-1').dropna()"
   ]
  },
  {
   "cell_type": "code",
   "execution_count": 24,
   "metadata": {
    "scrolled": true
   },
   "outputs": [],
   "source": [
    "aquisitions_df.rename(columns = lambda x: x.strip(), inplace = True)\n",
    "\n",
    "aquisitions_df['acquirer_name'] = aquisitions_df['acquirer_name'].apply(lambda x: x.strip())\n",
    "\n",
    "aquisitions_df['price_amount'] = aquisitions_df['price_amount'].apply(lambda x: x.replace(',', '').strip())"
   ]
  },
  {
   "cell_type": "code",
   "execution_count": 25,
   "metadata": {},
   "outputs": [],
   "source": [
    "# aquisitions_df"
   ]
  },
  {
   "cell_type": "code",
   "execution_count": 26,
   "metadata": {},
   "outputs": [],
   "source": [
    "aquisitions_df.loc[aquisitions_df['acquirer_name'] == 'Microsoft', 'acquirer_market'] = 'Software'\n",
    "aquisitions_df.loc[aquisitions_df['acquirer_name'].isin(['Yahoo!', 'AOL', 'Google']), 'acquirer_market'] = 'Service Provider'\n",
    "aquisitions_df.loc[aquisitions_df['acquirer_name'].isin(['Salesforce', 'Cisco']), 'acquirer_market'] = 'Enterprise Software'\n",
    "aquisitions_df.loc[aquisitions_df['acquirer_name'] == 'Hewlett-Packard', 'acquirer_market'] = 'Hardware + Software'\n",
    "aquisitions_df.loc[aquisitions_df['acquirer_name'] == 'Facebook', 'acquirer_market'] = 'Social Media'"
   ]
  },
  {
   "cell_type": "code",
   "execution_count": 27,
   "metadata": {},
   "outputs": [],
   "source": [
    "# aquisitions_df[aquisitions_df['acquirer_name'] == 'Google']"
   ]
  },
  {
   "cell_type": "code",
   "execution_count": 28,
   "metadata": {},
   "outputs": [],
   "source": [
    "aquisitions_df.to_csv(\"../clean/acquisitions_final.csv\")"
   ]
  },
  {
   "cell_type": "code",
   "execution_count": 29,
   "metadata": {},
   "outputs": [
    {
     "data": {
      "text/html": [
       "<div>\n",
       "<style scoped>\n",
       "    .dataframe tbody tr th:only-of-type {\n",
       "        vertical-align: middle;\n",
       "    }\n",
       "\n",
       "    .dataframe tbody tr th {\n",
       "        vertical-align: top;\n",
       "    }\n",
       "\n",
       "    .dataframe thead th {\n",
       "        text-align: right;\n",
       "    }\n",
       "</style>\n",
       "<table border=\"1\" class=\"dataframe\">\n",
       "  <thead>\n",
       "    <tr style=\"text-align: right;\">\n",
       "      <th></th>\n",
       "      <th>acquirer_name</th>\n",
       "      <th>count</th>\n",
       "    </tr>\n",
       "  </thead>\n",
       "  <tbody>\n",
       "    <tr>\n",
       "      <td>0</td>\n",
       "      <td>Google</td>\n",
       "      <td>34</td>\n",
       "    </tr>\n",
       "    <tr>\n",
       "      <td>1</td>\n",
       "      <td>Yahoo!</td>\n",
       "      <td>28</td>\n",
       "    </tr>\n",
       "    <tr>\n",
       "      <td>2</td>\n",
       "      <td>Cisco</td>\n",
       "      <td>21</td>\n",
       "    </tr>\n",
       "    <tr>\n",
       "      <td>3</td>\n",
       "      <td>AOL</td>\n",
       "      <td>20</td>\n",
       "    </tr>\n",
       "    <tr>\n",
       "      <td>4</td>\n",
       "      <td>Microsoft</td>\n",
       "      <td>15</td>\n",
       "    </tr>\n",
       "    <tr>\n",
       "      <td>...</td>\n",
       "      <td>...</td>\n",
       "      <td>...</td>\n",
       "    </tr>\n",
       "    <tr>\n",
       "      <td>989</td>\n",
       "      <td>Green Courte Partners</td>\n",
       "      <td>1</td>\n",
       "    </tr>\n",
       "    <tr>\n",
       "      <td>990</td>\n",
       "      <td>Guidance Software</td>\n",
       "      <td>1</td>\n",
       "    </tr>\n",
       "    <tr>\n",
       "      <td>991</td>\n",
       "      <td>HMS Holdings</td>\n",
       "      <td>1</td>\n",
       "    </tr>\n",
       "    <tr>\n",
       "      <td>992</td>\n",
       "      <td>HSW International</td>\n",
       "      <td>1</td>\n",
       "    </tr>\n",
       "    <tr>\n",
       "      <td>993</td>\n",
       "      <td>zColo</td>\n",
       "      <td>1</td>\n",
       "    </tr>\n",
       "  </tbody>\n",
       "</table>\n",
       "<p>994 rows × 2 columns</p>\n",
       "</div>"
      ],
      "text/plain": [
       "             acquirer_name  count\n",
       "0                   Google     34\n",
       "1                   Yahoo!     28\n",
       "2                    Cisco     21\n",
       "3                      AOL     20\n",
       "4                Microsoft     15\n",
       "..                     ...    ...\n",
       "989  Green Courte Partners      1\n",
       "990      Guidance Software      1\n",
       "991           HMS Holdings      1\n",
       "992      HSW International      1\n",
       "993                  zColo      1\n",
       "\n",
       "[994 rows x 2 columns]"
      ]
     },
     "execution_count": 29,
     "metadata": {},
     "output_type": "execute_result"
    }
   ],
   "source": [
    "bigCompanies = pd.DataFrame(aquisitions_df.groupby('acquirer_name')['acquirer_name'].count())\n",
    "bigCompanies.rename(columns={'acquirer_name': 'count'}, inplace=True)\n",
    "bigCompanies.sort_values('count', ascending=False, inplace=True)\n",
    "bigCompanies.reset_index(inplace=True)\n",
    "bigCompanies"
   ]
  },
  {
   "cell_type": "code",
   "execution_count": 30,
   "metadata": {},
   "outputs": [
    {
     "data": {
      "text/plain": [
       "array([[<matplotlib.axes._subplots.AxesSubplot object at 0x7fe8b09fcad0>]],\n",
       "      dtype=object)"
      ]
     },
     "execution_count": 30,
     "metadata": {},
     "output_type": "execute_result"
    },
    {
     "data": {
      "image/png": "[encoded data removed]",
      "text/plain": [
       "<Figure size 432x288 with 1 Axes>"
      ]
     },
     "metadata": {
      "needs_background": "light"
     },
     "output_type": "display_data"
    }
   ],
   "source": [
    "bigCompanies.hist(column='count', bins = 100)"
   ]
  },
  {
   "cell_type": "code",
   "execution_count": null,
   "metadata": {},
   "outputs": [],
   "source": []
  },
  {
   "cell_type": "markdown",
   "metadata": {},
   "source": [
    "## Analysis into Top Investors"
   ]
  },
  {
   "cell_type": "code",
   "execution_count": 33,
   "metadata": {},
   "outputs": [],
   "source": [
    "investments_df = pd.read_csv(\"../raw/investments.csv\", encoding = 'ISO-8859-1').dropna()"
   ]
  },
  {
   "cell_type": "code",
   "execution_count": 34,
   "metadata": {},
   "outputs": [],
   "source": [
    "investments_df = investments_df[investments_df['funded_month'] >= '2007']"
   ]
  },
  {
   "cell_type": "code",
   "execution_count": 35,
   "metadata": {},
   "outputs": [],
   "source": [
    "investments_df['raised_amount_usd'] = investments_df['raised_amount_usd'].apply(lambda x: x.replace(',', '').strip())\n",
    "investments_df['raised_amount_usd'] = investments_df['raised_amount_usd'].astype(int)"
   ]
  },
  {
   "cell_type": "code",
   "execution_count": 36,
   "metadata": {},
   "outputs": [],
   "source": [
    "test_df = investments_df.groupby(['investor_name', 'funded_year']).agg({'raised_amount_usd': 'sum'}).reset_index()"
   ]
  },
  {
   "cell_type": "code",
   "execution_count": 38,
   "metadata": {},
   "outputs": [],
   "source": [
    "test_df = test_df.groupby(['funded_year', 'investor_name']).agg({'raised_amount_usd': sum})"
   ]
  },
  {
   "cell_type": "code",
   "execution_count": 39,
   "metadata": {},
   "outputs": [],
   "source": [
    "test_df = test_df['raised_amount_usd'].groupby('funded_year', group_keys = False).nlargest(10).to_frame()"
   ]
  },
  {
   "cell_type": "code",
   "execution_count": 40,
   "metadata": {},
   "outputs": [
    {
     "data": {
      "text/html": [
       "<div>\n",
       "<style scoped>\n",
       "    .dataframe tbody tr th:only-of-type {\n",
       "        vertical-align: middle;\n",
       "    }\n",
       "\n",
       "    .dataframe tbody tr th {\n",
       "        vertical-align: top;\n",
       "    }\n",
       "\n",
       "    .dataframe thead th {\n",
       "        text-align: right;\n",
       "    }\n",
       "</style>\n",
       "<table border=\"1\" class=\"dataframe\">\n",
       "  <thead>\n",
       "    <tr style=\"text-align: right;\">\n",
       "      <th></th>\n",
       "      <th></th>\n",
       "      <th>raised_amount_usd</th>\n",
       "    </tr>\n",
       "    <tr>\n",
       "      <th>funded_year</th>\n",
       "      <th>investor_name</th>\n",
       "      <th></th>\n",
       "    </tr>\n",
       "  </thead>\n",
       "  <tbody>\n",
       "    <tr>\n",
       "      <td rowspan=\"5\" valign=\"top\">2007</td>\n",
       "      <td>New Enterprise Associates</td>\n",
       "      <td>1074789000</td>\n",
       "    </tr>\n",
       "    <tr>\n",
       "      <td>Sequoia Capital</td>\n",
       "      <td>842679000</td>\n",
       "    </tr>\n",
       "    <tr>\n",
       "      <td>Intel Capital</td>\n",
       "      <td>554600000</td>\n",
       "    </tr>\n",
       "    <tr>\n",
       "      <td>Goldman Sachs</td>\n",
       "      <td>462300000</td>\n",
       "    </tr>\n",
       "    <tr>\n",
       "      <td>Accel Partners</td>\n",
       "      <td>448730000</td>\n",
       "    </tr>\n",
       "    <tr>\n",
       "      <td>...</td>\n",
       "      <td>...</td>\n",
       "      <td>...</td>\n",
       "    </tr>\n",
       "    <tr>\n",
       "      <td rowspan=\"5\" valign=\"top\">2014</td>\n",
       "      <td>Fidelity Investments</td>\n",
       "      <td>1712000000</td>\n",
       "    </tr>\n",
       "    <tr>\n",
       "      <td>Menlo Ventures</td>\n",
       "      <td>1595500000</td>\n",
       "    </tr>\n",
       "    <tr>\n",
       "      <td>Intel Capital</td>\n",
       "      <td>1516469993</td>\n",
       "    </tr>\n",
       "    <tr>\n",
       "      <td>Accel Partners</td>\n",
       "      <td>1424925000</td>\n",
       "    </tr>\n",
       "    <tr>\n",
       "      <td>Sequoia Capital</td>\n",
       "      <td>1416430016</td>\n",
       "    </tr>\n",
       "  </tbody>\n",
       "</table>\n",
       "<p>80 rows × 1 columns</p>\n",
       "</div>"
      ],
      "text/plain": [
       "                                       raised_amount_usd\n",
       "funded_year investor_name                               \n",
       "2007        New Enterprise Associates         1074789000\n",
       "            Sequoia Capital                    842679000\n",
       "            Intel Capital                      554600000\n",
       "            Goldman Sachs                      462300000\n",
       "            Accel Partners                     448730000\n",
       "...                                                  ...\n",
       "2014        Fidelity Investments              1712000000\n",
       "            Menlo Ventures                    1595500000\n",
       "            Intel Capital                     1516469993\n",
       "            Accel Partners                    1424925000\n",
       "            Sequoia Capital                   1416430016\n",
       "\n",
       "[80 rows x 1 columns]"
      ]
     },
     "execution_count": 40,
     "metadata": {},
     "output_type": "execute_result"
    }
   ],
   "source": [
    "test_df"
   ]
  },
  {
   "cell_type": "code",
   "execution_count": 41,
   "metadata": {},
   "outputs": [],
   "source": [
    "test_df['year_rank'] = test_df.groupby('funded_year')['raised_amount_usd'].rank(ascending = False)"
   ]
  },
  {
   "cell_type": "code",
   "execution_count": 42,
   "metadata": {},
   "outputs": [],
   "source": [
    "test_df.to_csv('../clean/investor_ranks.csv')"
   ]
  }
 ],
 "metadata": {
  "kernelspec": {
   "display_name": "Python 3",
   "language": "python",
   "name": "python3"
  },
  "language_info": {
   "codemirror_mode": {
    "name": "ipython",
    "version": 3
   },
   "file_extension": ".py",
   "mimetype": "text/x-python",
   "name": "python",
   "nbconvert_exporter": "python",
   "pygments_lexer": "ipython3",
   "version": "3.7.4"
  }
 },
 "nbformat": 4,
 "nbformat_minor": 2
}
